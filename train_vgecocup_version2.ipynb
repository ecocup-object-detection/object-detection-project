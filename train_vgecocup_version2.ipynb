{
 "cells": [
  {
   "cell_type": "code",
   "execution_count": 1,
   "metadata": {},
   "outputs": [],
   "source": [
    "import numpy as np\n",
    "import tensorflow as tf\n",
    "import matplotlib.pyplot as plt\n",
    "\n",
    "from keras.layers import Dense\n",
    "from keras import Model\n",
    "from tensorflow.keras.optimizers import Adam\n",
    "from tensorflow.keras.utils import to_categorical\n",
    "from keras.applications.vgg16 import VGG16\n",
    "from sklearn.model_selection import train_test_split\n",
    "from tensorflow.keras import callbacks"
   ]
  },
  {
   "cell_type": "code",
   "execution_count": 5,
   "metadata": {},
   "outputs": [],
   "source": [
    "train_images_array = np.load(\"train_data/train_images_full.npy\")\n",
    "train_labels_array = np.load(\"train_data/train_labels_full.npy\")"
   ]
  },
  {
   "cell_type": "code",
   "execution_count": 6,
   "metadata": {},
   "outputs": [
    {
     "data": {
      "text/plain": [
       "(15677, 224, 224, 3)"
      ]
     },
     "execution_count": 6,
     "metadata": {},
     "output_type": "execute_result"
    }
   ],
   "source": [
    "train_images_array.shape"
   ]
  },
  {
   "cell_type": "code",
   "execution_count": 7,
   "metadata": {},
   "outputs": [],
   "source": [
    "train_labels_array = to_categorical(train_labels_array, dtype=\"int\")"
   ]
  },
  {
   "cell_type": "code",
   "execution_count": 8,
   "metadata": {},
   "outputs": [
    {
     "name": "stderr",
     "output_type": "stream",
     "text": [
      "2022-06-12 13:49:20.599781: I tensorflow/core/platform/cpu_feature_guard.cc:142] This TensorFlow binary is optimized with oneAPI Deep Neural Network Library (oneDNN) to use the following CPU instructions in performance-critical operations:  AVX2 FMA\n",
      "To enable them in other operations, rebuild TensorFlow with the appropriate compiler flags.\n"
     ]
    },
    {
     "name": "stdout",
     "output_type": "stream",
     "text": [
      "Model: \"vgg16\"\n",
      "_________________________________________________________________\n",
      "Layer (type)                 Output Shape              Param #   \n",
      "=================================================================\n",
      "input_1 (InputLayer)         [(None, 224, 224, 3)]     0         \n",
      "_________________________________________________________________\n",
      "block1_conv1 (Conv2D)        (None, 224, 224, 64)      1792      \n",
      "_________________________________________________________________\n",
      "block1_conv2 (Conv2D)        (None, 224, 224, 64)      36928     \n",
      "_________________________________________________________________\n",
      "block1_pool (MaxPooling2D)   (None, 112, 112, 64)      0         \n",
      "_________________________________________________________________\n",
      "block2_conv1 (Conv2D)        (None, 112, 112, 128)     73856     \n",
      "_________________________________________________________________\n",
      "block2_conv2 (Conv2D)        (None, 112, 112, 128)     147584    \n",
      "_________________________________________________________________\n",
      "block2_pool (MaxPooling2D)   (None, 56, 56, 128)       0         \n",
      "_________________________________________________________________\n",
      "block3_conv1 (Conv2D)        (None, 56, 56, 256)       295168    \n",
      "_________________________________________________________________\n",
      "block3_conv2 (Conv2D)        (None, 56, 56, 256)       590080    \n",
      "_________________________________________________________________\n",
      "block3_conv3 (Conv2D)        (None, 56, 56, 256)       590080    \n",
      "_________________________________________________________________\n",
      "block3_pool (MaxPooling2D)   (None, 28, 28, 256)       0         \n",
      "_________________________________________________________________\n",
      "block4_conv1 (Conv2D)        (None, 28, 28, 512)       1180160   \n",
      "_________________________________________________________________\n",
      "block4_conv2 (Conv2D)        (None, 28, 28, 512)       2359808   \n",
      "_________________________________________________________________\n",
      "block4_conv3 (Conv2D)        (None, 28, 28, 512)       2359808   \n",
      "_________________________________________________________________\n",
      "block4_pool (MaxPooling2D)   (None, 14, 14, 512)       0         \n",
      "_________________________________________________________________\n",
      "block5_conv1 (Conv2D)        (None, 14, 14, 512)       2359808   \n",
      "_________________________________________________________________\n",
      "block5_conv2 (Conv2D)        (None, 14, 14, 512)       2359808   \n",
      "_________________________________________________________________\n",
      "block5_conv3 (Conv2D)        (None, 14, 14, 512)       2359808   \n",
      "_________________________________________________________________\n",
      "block5_pool (MaxPooling2D)   (None, 7, 7, 512)         0         \n",
      "_________________________________________________________________\n",
      "flatten (Flatten)            (None, 25088)             0         \n",
      "_________________________________________________________________\n",
      "fc1 (Dense)                  (None, 4096)              102764544 \n",
      "_________________________________________________________________\n",
      "fc2 (Dense)                  (None, 4096)              16781312  \n",
      "_________________________________________________________________\n",
      "predictions (Dense)          (None, 1000)              4097000   \n",
      "=================================================================\n",
      "Total params: 138,357,544\n",
      "Trainable params: 138,357,544\n",
      "Non-trainable params: 0\n",
      "_________________________________________________________________\n"
     ]
    }
   ],
   "source": [
    "vggmodel = VGG16(weights='imagenet', include_top=True)\n",
    "vggmodel.summary()"
   ]
  },
  {
   "cell_type": "code",
   "execution_count": 9,
   "metadata": {},
   "outputs": [],
   "source": [
    "for layers in (vggmodel.layers)[:15]:\n",
    "    layers.trainable = False"
   ]
  },
  {
   "cell_type": "code",
   "execution_count": 10,
   "metadata": {},
   "outputs": [
    {
     "name": "stdout",
     "output_type": "stream",
     "text": [
      "Model: \"model\"\n",
      "_________________________________________________________________\n",
      "Layer (type)                 Output Shape              Param #   \n",
      "=================================================================\n",
      "input_1 (InputLayer)         [(None, 224, 224, 3)]     0         \n",
      "_________________________________________________________________\n",
      "block1_conv1 (Conv2D)        (None, 224, 224, 64)      1792      \n",
      "_________________________________________________________________\n",
      "block1_conv2 (Conv2D)        (None, 224, 224, 64)      36928     \n",
      "_________________________________________________________________\n",
      "block1_pool (MaxPooling2D)   (None, 112, 112, 64)      0         \n",
      "_________________________________________________________________\n",
      "block2_conv1 (Conv2D)        (None, 112, 112, 128)     73856     \n",
      "_________________________________________________________________\n",
      "block2_conv2 (Conv2D)        (None, 112, 112, 128)     147584    \n",
      "_________________________________________________________________\n",
      "block2_pool (MaxPooling2D)   (None, 56, 56, 128)       0         \n",
      "_________________________________________________________________\n",
      "block3_conv1 (Conv2D)        (None, 56, 56, 256)       295168    \n",
      "_________________________________________________________________\n",
      "block3_conv2 (Conv2D)        (None, 56, 56, 256)       590080    \n",
      "_________________________________________________________________\n",
      "block3_conv3 (Conv2D)        (None, 56, 56, 256)       590080    \n",
      "_________________________________________________________________\n",
      "block3_pool (MaxPooling2D)   (None, 28, 28, 256)       0         \n",
      "_________________________________________________________________\n",
      "block4_conv1 (Conv2D)        (None, 28, 28, 512)       1180160   \n",
      "_________________________________________________________________\n",
      "block4_conv2 (Conv2D)        (None, 28, 28, 512)       2359808   \n",
      "_________________________________________________________________\n",
      "block4_conv3 (Conv2D)        (None, 28, 28, 512)       2359808   \n",
      "_________________________________________________________________\n",
      "block4_pool (MaxPooling2D)   (None, 14, 14, 512)       0         \n",
      "_________________________________________________________________\n",
      "block5_conv1 (Conv2D)        (None, 14, 14, 512)       2359808   \n",
      "_________________________________________________________________\n",
      "block5_conv2 (Conv2D)        (None, 14, 14, 512)       2359808   \n",
      "_________________________________________________________________\n",
      "block5_conv3 (Conv2D)        (None, 14, 14, 512)       2359808   \n",
      "_________________________________________________________________\n",
      "block5_pool (MaxPooling2D)   (None, 7, 7, 512)         0         \n",
      "_________________________________________________________________\n",
      "flatten (Flatten)            (None, 25088)             0         \n",
      "_________________________________________________________________\n",
      "fc1 (Dense)                  (None, 4096)              102764544 \n",
      "_________________________________________________________________\n",
      "fc2 (Dense)                  (None, 4096)              16781312  \n",
      "_________________________________________________________________\n",
      "dense (Dense)                (None, 2)                 8194      \n",
      "=================================================================\n",
      "Total params: 134,268,738\n",
      "Trainable params: 126,633,474\n",
      "Non-trainable params: 7,635,264\n",
      "_________________________________________________________________\n"
     ]
    }
   ],
   "source": [
    "dense_layer2 = vggmodel.layers[-2].output\n",
    "prediction_layer = Dense(units=2, activation=\"softmax\")(dense_layer2)\n",
    "\n",
    "vgecocup = Model(inputs=vggmodel.input, outputs=prediction_layer)\n",
    "optimizer = Adam(learning_rate=0.0001)\n",
    "vgecocup.compile(optimizer=optimizer,\n",
    "                 loss=tf.keras.losses.BinaryCrossentropy(), metrics=[\"accuracy\"])\n",
    "vgecocup.summary()"
   ]
  },
  {
   "cell_type": "code",
   "execution_count": 11,
   "metadata": {},
   "outputs": [],
   "source": [
    "X_train_model, X_test_model, y_train_model, y_test_model = train_test_split(\n",
    "    train_images_array, train_labels_array, test_size=0.10)"
   ]
  },
  {
   "cell_type": "code",
   "execution_count": 12,
   "metadata": {},
   "outputs": [
    {
     "data": {
      "text/plain": [
       "(14109, 224, 224, 3)"
      ]
     },
     "execution_count": 12,
     "metadata": {},
     "output_type": "execute_result"
    }
   ],
   "source": [
    "X_train_model.shape"
   ]
  },
  {
   "cell_type": "code",
   "execution_count": 13,
   "metadata": {},
   "outputs": [
    {
     "data": {
      "text/plain": [
       "(1568, 224, 224, 3)"
      ]
     },
     "execution_count": 13,
     "metadata": {},
     "output_type": "execute_result"
    }
   ],
   "source": [
    "X_test_model.shape"
   ]
  },
  {
   "cell_type": "code",
   "execution_count": 15,
   "metadata": {},
   "outputs": [
    {
     "name": "stdout",
     "output_type": "stream",
     "text": [
      "Epoch 1/150\n",
      "10/10 [==============================] - 442s 48s/step - loss: 0.3939 - accuracy: 0.8800 - val_loss: 0.4023 - val_accuracy: 0.9037\n",
      "Epoch 2/150\n",
      "10/10 [==============================] - 410s 45s/step - loss: 0.5022 - accuracy: 0.8800 - val_loss: 0.2268 - val_accuracy: 0.9209\n",
      "Epoch 3/150\n",
      "10/10 [==============================] - 423s 47s/step - loss: 0.2878 - accuracy: 0.9000 - val_loss: 0.2432 - val_accuracy: 0.9075\n",
      "Epoch 4/150\n",
      "10/10 [==============================] - 440s 48s/step - loss: 0.3903 - accuracy: 0.9100 - val_loss: 0.6928 - val_accuracy: 0.8080\n",
      "Epoch 5/150\n",
      "10/10 [==============================] - 450s 50s/step - loss: 0.3512 - accuracy: 0.8600 - val_loss: 0.1522 - val_accuracy: 0.9394\n",
      "Epoch 6/150\n",
      "10/10 [==============================] - 490s 54s/step - loss: 0.1891 - accuracy: 0.9400 - val_loss: 0.1562 - val_accuracy: 0.9432\n",
      "Epoch 7/150\n",
      "10/10 [==============================] - 523s 58s/step - loss: 0.0551 - accuracy: 0.9800 - val_loss: 0.3781 - val_accuracy: 0.9222\n",
      "Epoch 8/150\n",
      "10/10 [==============================] - 521s 57s/step - loss: 0.4816 - accuracy: 0.8900 - val_loss: 0.1626 - val_accuracy: 0.9394\n",
      "Epoch 9/150\n",
      "10/10 [==============================] - 523s 58s/step - loss: 0.1943 - accuracy: 0.9200 - val_loss: 0.1083 - val_accuracy: 0.9573\n",
      "Epoch 10/150\n",
      "10/10 [==============================] - 523s 58s/step - loss: 0.1356 - accuracy: 0.9500 - val_loss: 0.1087 - val_accuracy: 0.9605\n",
      "Epoch 11/150\n",
      "10/10 [==============================] - 528s 58s/step - loss: 0.1125 - accuracy: 0.9800 - val_loss: 0.3459 - val_accuracy: 0.9267\n",
      "Epoch 12/150\n",
      "10/10 [==============================] - 527s 58s/step - loss: 0.1671 - accuracy: 0.9300 - val_loss: 0.1260 - val_accuracy: 0.9503\n",
      "Epoch 13/150\n",
      "10/10 [==============================] - 528s 58s/step - loss: 0.2463 - accuracy: 0.9300 - val_loss: 0.1666 - val_accuracy: 0.9349\n",
      "Epoch 14/150\n",
      "10/10 [==============================] - 526s 58s/step - loss: 0.1090 - accuracy: 0.9500 - val_loss: 0.1562 - val_accuracy: 0.9407\n",
      "Epoch 15/150\n",
      "10/10 [==============================] - 526s 58s/step - loss: 0.3164 - accuracy: 0.9200 - val_loss: 0.1723 - val_accuracy: 0.9394\n",
      "Epoch 16/150\n",
      "10/10 [==============================] - 527s 58s/step - loss: 0.1498 - accuracy: 0.9700 - val_loss: 0.0931 - val_accuracy: 0.9675\n",
      "Epoch 17/150\n",
      "10/10 [==============================] - 527s 58s/step - loss: 0.1015 - accuracy: 0.9700 - val_loss: 0.1093 - val_accuracy: 0.9515\n",
      "Epoch 18/150\n",
      "10/10 [==============================] - 527s 58s/step - loss: 0.1668 - accuracy: 0.9300 - val_loss: 0.1101 - val_accuracy: 0.9611\n",
      "Epoch 19/150\n",
      "10/10 [==============================] - 527s 58s/step - loss: 0.1668 - accuracy: 0.9400 - val_loss: 0.1064 - val_accuracy: 0.9662\n",
      "Epoch 20/150\n",
      "10/10 [==============================] - 529s 58s/step - loss: 0.1057 - accuracy: 0.9600 - val_loss: 0.2617 - val_accuracy: 0.9566\n",
      "Epoch 21/150\n",
      "10/10 [==============================] - 529s 58s/step - loss: 0.1937 - accuracy: 0.9900 - val_loss: 0.1723 - val_accuracy: 0.9356\n",
      "Epoch 22/150\n",
      "10/10 [==============================] - 530s 58s/step - loss: 0.2023 - accuracy: 0.9300 - val_loss: 0.1502 - val_accuracy: 0.9560\n",
      "Epoch 23/150\n",
      "10/10 [==============================] - 531s 59s/step - loss: 0.1303 - accuracy: 0.9400 - val_loss: 0.1294 - val_accuracy: 0.9483\n",
      "Epoch 24/150\n",
      "10/10 [==============================] - 530s 58s/step - loss: 0.0446 - accuracy: 0.9900 - val_loss: 0.1186 - val_accuracy: 0.9598\n",
      "Epoch 25/150\n",
      "10/10 [==============================] - 532s 59s/step - loss: 0.3527 - accuracy: 0.9500 - val_loss: 0.1508 - val_accuracy: 0.9509\n",
      "Epoch 26/150\n",
      "10/10 [==============================] - 530s 58s/step - loss: 0.4621 - accuracy: 0.9000 - val_loss: 0.1495 - val_accuracy: 0.9369\n",
      "Epoch 27/150\n",
      "10/10 [==============================] - 533s 59s/step - loss: 0.2581 - accuracy: 0.9100 - val_loss: 0.1256 - val_accuracy: 0.9515\n",
      "Epoch 28/150\n",
      "10/10 [==============================] - 534s 59s/step - loss: 0.1326 - accuracy: 0.9400 - val_loss: 0.1087 - val_accuracy: 0.9617\n",
      "Epoch 29/150\n",
      "10/10 [==============================] - 532s 59s/step - loss: 0.1202 - accuracy: 0.9400 - val_loss: 0.0888 - val_accuracy: 0.9624\n",
      "Epoch 30/150\n",
      "10/10 [==============================] - 532s 59s/step - loss: 0.1406 - accuracy: 0.9400 - val_loss: 0.0793 - val_accuracy: 0.9777\n",
      "Epoch 31/150\n",
      "10/10 [==============================] - 530s 58s/step - loss: 0.0822 - accuracy: 0.9500 - val_loss: 0.1764 - val_accuracy: 0.9541\n",
      "Epoch 32/150\n",
      "10/10 [==============================] - 532s 59s/step - loss: 0.2419 - accuracy: 0.9400 - val_loss: 0.0842 - val_accuracy: 0.9770\n",
      "Epoch 33/150\n",
      "10/10 [==============================] - 531s 58s/step - loss: 0.1829 - accuracy: 0.9600 - val_loss: 0.2644 - val_accuracy: 0.8788\n",
      "Epoch 34/150\n",
      "10/10 [==============================] - 532s 59s/step - loss: 0.1740 - accuracy: 0.9200 - val_loss: 0.1195 - val_accuracy: 0.9547\n",
      "Epoch 35/150\n",
      "10/10 [==============================] - 506s 56s/step - loss: 0.4156 - accuracy: 0.8800 - val_loss: 0.1730 - val_accuracy: 0.9324\n",
      "Epoch 36/150\n",
      "10/10 [==============================] - 457s 50s/step - loss: 0.1147 - accuracy: 0.9700 - val_loss: 0.1235 - val_accuracy: 0.9471\n",
      "Epoch 37/150\n",
      "10/10 [==============================] - 454s 50s/step - loss: 0.1073 - accuracy: 0.9600 - val_loss: 0.2402 - val_accuracy: 0.9330\n",
      "Epoch 38/150\n",
      "10/10 [==============================] - 444s 49s/step - loss: 0.1352 - accuracy: 0.9400 - val_loss: 0.1744 - val_accuracy: 0.9471\n",
      "Epoch 39/150\n",
      "10/10 [==============================] - 450s 50s/step - loss: 0.0495 - accuracy: 0.9800 - val_loss: 0.1600 - val_accuracy: 0.9636\n",
      "Epoch 40/150\n",
      "10/10 [==============================] - 451s 50s/step - loss: 0.1972 - accuracy: 0.9300 - val_loss: 0.1110 - val_accuracy: 0.9503\n",
      "Epoch 41/150\n",
      "10/10 [==============================] - 528s 58s/step - loss: 0.0633 - accuracy: 0.9700 - val_loss: 0.1039 - val_accuracy: 0.9592\n",
      "Epoch 42/150\n",
      "10/10 [==============================] - 510s 56s/step - loss: 0.0834 - accuracy: 0.9600 - val_loss: 0.2095 - val_accuracy: 0.9643\n",
      "Epoch 43/150\n",
      "10/10 [==============================] - 454s 50s/step - loss: 0.0420 - accuracy: 0.9800 - val_loss: 0.1161 - val_accuracy: 0.9643\n",
      "Epoch 44/150\n",
      "10/10 [==============================] - 455s 50s/step - loss: 0.1514 - accuracy: 0.9600 - val_loss: 0.1636 - val_accuracy: 0.9617\n",
      "Epoch 45/150\n",
      "10/10 [==============================] - 525s 58s/step - loss: 0.2396 - accuracy: 0.9600 - val_loss: 0.0926 - val_accuracy: 0.9707\n",
      "Epoch 46/150\n",
      "10/10 [==============================] - 543s 60s/step - loss: 0.1788 - accuracy: 0.9400 - val_loss: 0.1621 - val_accuracy: 0.9305\n",
      "Epoch 47/150\n",
      "10/10 [==============================] - 543s 60s/step - loss: 0.0789 - accuracy: 0.9800 - val_loss: 0.0814 - val_accuracy: 0.9732\n",
      "Epoch 48/150\n",
      "10/10 [==============================] - 552s 61s/step - loss: 0.0196 - accuracy: 1.0000 - val_loss: 0.1881 - val_accuracy: 0.9688\n",
      "Epoch 49/150\n",
      "10/10 [==============================] - 546s 60s/step - loss: 0.0457 - accuracy: 0.9800 - val_loss: 0.1365 - val_accuracy: 0.9611\n",
      "Epoch 50/150\n",
      "10/10 [==============================] - 547s 60s/step - loss: 0.3198 - accuracy: 0.9400 - val_loss: 0.0924 - val_accuracy: 0.9707\n",
      "Epoch 51/150\n",
      "10/10 [==============================] - 512s 56s/step - loss: 0.1553 - accuracy: 0.9200 - val_loss: 0.1428 - val_accuracy: 0.9279\n",
      "Epoch 52/150\n",
      "10/10 [==============================] - 459s 51s/step - loss: 0.0897 - accuracy: 0.9600 - val_loss: 0.1126 - val_accuracy: 0.9515\n",
      "Epoch 53/150\n",
      "10/10 [==============================] - 457s 50s/step - loss: 0.1695 - accuracy: 0.9300 - val_loss: 0.1204 - val_accuracy: 0.9426\n",
      "Epoch 54/150\n",
      "10/10 [==============================] - 534s 59s/step - loss: 0.1068 - accuracy: 0.9600 - val_loss: 0.1775 - val_accuracy: 0.9369\n",
      "Epoch 55/150\n",
      "10/10 [==============================] - 545s 60s/step - loss: 0.1930 - accuracy: 0.9600 - val_loss: 0.1137 - val_accuracy: 0.9534\n",
      "Epoch 56/150\n",
      "10/10 [==============================] - 507s 56s/step - loss: 0.3703 - accuracy: 0.9400 - val_loss: 0.0824 - val_accuracy: 0.9688\n",
      "Epoch 57/150\n",
      "10/10 [==============================] - 458s 50s/step - loss: 0.0724 - accuracy: 0.9800 - val_loss: 0.1772 - val_accuracy: 0.9413\n",
      "Epoch 58/150\n",
      "10/10 [==============================] - 456s 50s/step - loss: 0.2244 - accuracy: 0.8900 - val_loss: 0.6379 - val_accuracy: 0.8661\n",
      "Epoch 59/150\n",
      "10/10 [==============================] - 504s 56s/step - loss: 0.2817 - accuracy: 0.9400 - val_loss: 0.2004 - val_accuracy: 0.9496\n",
      "Epoch 60/150\n",
      "10/10 [==============================] - 485s 53s/step - loss: 0.0680 - accuracy: 0.9700 - val_loss: 0.1564 - val_accuracy: 0.9445\n",
      "Epoch 61/150\n",
      "10/10 [==============================] - 491s 54s/step - loss: 0.1296 - accuracy: 0.9400 - val_loss: 0.1020 - val_accuracy: 0.9643\n",
      "Epoch 62/150\n",
      "10/10 [==============================] - 493s 54s/step - loss: 0.0779 - accuracy: 0.9800 - val_loss: 0.1300 - val_accuracy: 0.9636\n",
      "Epoch 63/150\n",
      "10/10 [==============================] - 491s 54s/step - loss: 0.1121 - accuracy: 0.9500 - val_loss: 0.1920 - val_accuracy: 0.9349\n",
      "Epoch 64/150\n",
      "10/10 [==============================] - 493s 54s/step - loss: 0.2322 - accuracy: 0.9400 - val_loss: 0.0854 - val_accuracy: 0.9688\n",
      "Epoch 65/150\n",
      "10/10 [==============================] - 544s 60s/step - loss: 0.0594 - accuracy: 0.9900 - val_loss: 0.1070 - val_accuracy: 0.9707\n",
      "Epoch 66/150\n",
      "10/10 [==============================] - ETA: 0s - loss: 0.0891 - accuracy: 0.9700"
     ]
    }
   ],
   "source": [
    "hist = vgecocup.fit(\n",
    "    x=X_train_model,\n",
    "    y=y_train_model,\n",
    "    verbose=1,\n",
    "    batch_size=10,\n",
    "    steps_per_epoch=10,\n",
    "    epochs=150,\n",
    "    validation_data=(X_test_model, y_test_model),\n",
    ")"
   ]
  },
  {
   "cell_type": "code",
   "execution_count": null,
   "metadata": {},
   "outputs": [],
   "source": []
  }
 ],
 "metadata": {
  "interpreter": {
   "hash": "aee8b7b246df8f9039afb4144a1f6fd8d2ca17a180786b69acc140d282b71a49"
  },
  "kernelspec": {
   "display_name": "Python 3.9.8 64-bit",
   "language": "python",
   "name": "python3"
  },
  "language_info": {
   "codemirror_mode": {
    "name": "ipython",
    "version": 3
   },
   "file_extension": ".py",
   "mimetype": "text/x-python",
   "name": "python",
   "nbconvert_exporter": "python",
   "pygments_lexer": "ipython3",
   "version": "3.9.8"
  },
  "orig_nbformat": 4
 },
 "nbformat": 4,
 "nbformat_minor": 2
}

{
 "cells": [
  {
   "cell_type": "code",
   "execution_count": 1,
   "metadata": {},
   "outputs": [],
   "source": [
    "import numpy as np\n",
    "import tensorflow as tf\n",
    "import matplotlib.pyplot as plt\n",
    "\n",
    "from keras.layers import Dense\n",
    "from keras import Model\n",
    "from tensorflow.keras.optimizers import Adam\n",
    "from tensorflow.keras.utils import to_categorical\n",
    "from keras.applications.vgg16 import VGG16\n",
    "from sklearn.model_selection import train_test_split\n",
    "from tensorflow.keras import callbacks"
   ]
  },
  {
   "cell_type": "code",
   "execution_count": 2,
   "metadata": {},
   "outputs": [],
   "source": [
    "train_images_array = np.load(\"train_data/train_images_full.npy\")\n",
    "train_labels_array = np.load(\"train_data/train_labels_full.npy\")"
   ]
  },
  {
   "cell_type": "code",
   "execution_count": 3,
   "metadata": {},
   "outputs": [
    {
     "data": {
      "text/plain": [
       "(15677, 224, 224, 3)"
      ]
     },
     "execution_count": 3,
     "metadata": {},
     "output_type": "execute_result"
    }
   ],
   "source": [
    "train_images_array.shape"
   ]
  },
  {
   "cell_type": "code",
   "execution_count": 4,
   "metadata": {},
   "outputs": [],
   "source": [
    "train_labels_array = to_categorical(train_labels_array, dtype=\"int\")"
   ]
  },
  {
   "cell_type": "code",
   "execution_count": 5,
   "metadata": {},
   "outputs": [
    {
     "name": "stderr",
     "output_type": "stream",
     "text": [
      "2022-06-13 11:52:51.817468: I tensorflow/core/platform/cpu_feature_guard.cc:142] This TensorFlow binary is optimized with oneAPI Deep Neural Network Library (oneDNN) to use the following CPU instructions in performance-critical operations:  AVX2 FMA\n",
      "To enable them in other operations, rebuild TensorFlow with the appropriate compiler flags.\n"
     ]
    },
    {
     "name": "stdout",
     "output_type": "stream",
     "text": [
      "Model: \"vgg16\"\n",
      "_________________________________________________________________\n",
      "Layer (type)                 Output Shape              Param #   \n",
      "=================================================================\n",
      "input_1 (InputLayer)         [(None, 224, 224, 3)]     0         \n",
      "_________________________________________________________________\n",
      "block1_conv1 (Conv2D)        (None, 224, 224, 64)      1792      \n",
      "_________________________________________________________________\n",
      "block1_conv2 (Conv2D)        (None, 224, 224, 64)      36928     \n",
      "_________________________________________________________________\n",
      "block1_pool (MaxPooling2D)   (None, 112, 112, 64)      0         \n",
      "_________________________________________________________________\n",
      "block2_conv1 (Conv2D)        (None, 112, 112, 128)     73856     \n",
      "_________________________________________________________________\n",
      "block2_conv2 (Conv2D)        (None, 112, 112, 128)     147584    \n",
      "_________________________________________________________________\n",
      "block2_pool (MaxPooling2D)   (None, 56, 56, 128)       0         \n",
      "_________________________________________________________________\n",
      "block3_conv1 (Conv2D)        (None, 56, 56, 256)       295168    \n",
      "_________________________________________________________________\n",
      "block3_conv2 (Conv2D)        (None, 56, 56, 256)       590080    \n",
      "_________________________________________________________________\n",
      "block3_conv3 (Conv2D)        (None, 56, 56, 256)       590080    \n",
      "_________________________________________________________________\n",
      "block3_pool (MaxPooling2D)   (None, 28, 28, 256)       0         \n",
      "_________________________________________________________________\n",
      "block4_conv1 (Conv2D)        (None, 28, 28, 512)       1180160   \n",
      "_________________________________________________________________\n",
      "block4_conv2 (Conv2D)        (None, 28, 28, 512)       2359808   \n",
      "_________________________________________________________________\n",
      "block4_conv3 (Conv2D)        (None, 28, 28, 512)       2359808   \n",
      "_________________________________________________________________\n",
      "block4_pool (MaxPooling2D)   (None, 14, 14, 512)       0         \n",
      "_________________________________________________________________\n",
      "block5_conv1 (Conv2D)        (None, 14, 14, 512)       2359808   \n",
      "_________________________________________________________________\n",
      "block5_conv2 (Conv2D)        (None, 14, 14, 512)       2359808   \n",
      "_________________________________________________________________\n",
      "block5_conv3 (Conv2D)        (None, 14, 14, 512)       2359808   \n",
      "_________________________________________________________________\n",
      "block5_pool (MaxPooling2D)   (None, 7, 7, 512)         0         \n",
      "_________________________________________________________________\n",
      "flatten (Flatten)            (None, 25088)             0         \n",
      "_________________________________________________________________\n",
      "fc1 (Dense)                  (None, 4096)              102764544 \n",
      "_________________________________________________________________\n",
      "fc2 (Dense)                  (None, 4096)              16781312  \n",
      "_________________________________________________________________\n",
      "predictions (Dense)          (None, 1000)              4097000   \n",
      "=================================================================\n",
      "Total params: 138,357,544\n",
      "Trainable params: 138,357,544\n",
      "Non-trainable params: 0\n",
      "_________________________________________________________________\n"
     ]
    }
   ],
   "source": [
    "vggmodel = VGG16(weights='imagenet', include_top=True)\n",
    "vggmodel.summary()"
   ]
  },
  {
   "cell_type": "code",
   "execution_count": 6,
   "metadata": {},
   "outputs": [],
   "source": [
    "for layers in (vggmodel.layers)[:15]:\n",
    "    layers.trainable = False"
   ]
  },
  {
   "cell_type": "code",
   "execution_count": 7,
   "metadata": {},
   "outputs": [
    {
     "name": "stdout",
     "output_type": "stream",
     "text": [
      "Model: \"model\"\n",
      "_________________________________________________________________\n",
      "Layer (type)                 Output Shape              Param #   \n",
      "=================================================================\n",
      "input_1 (InputLayer)         [(None, 224, 224, 3)]     0         \n",
      "_________________________________________________________________\n",
      "block1_conv1 (Conv2D)        (None, 224, 224, 64)      1792      \n",
      "_________________________________________________________________\n",
      "block1_conv2 (Conv2D)        (None, 224, 224, 64)      36928     \n",
      "_________________________________________________________________\n",
      "block1_pool (MaxPooling2D)   (None, 112, 112, 64)      0         \n",
      "_________________________________________________________________\n",
      "block2_conv1 (Conv2D)        (None, 112, 112, 128)     73856     \n",
      "_________________________________________________________________\n",
      "block2_conv2 (Conv2D)        (None, 112, 112, 128)     147584    \n",
      "_________________________________________________________________\n",
      "block2_pool (MaxPooling2D)   (None, 56, 56, 128)       0         \n",
      "_________________________________________________________________\n",
      "block3_conv1 (Conv2D)        (None, 56, 56, 256)       295168    \n",
      "_________________________________________________________________\n",
      "block3_conv2 (Conv2D)        (None, 56, 56, 256)       590080    \n",
      "_________________________________________________________________\n",
      "block3_conv3 (Conv2D)        (None, 56, 56, 256)       590080    \n",
      "_________________________________________________________________\n",
      "block3_pool (MaxPooling2D)   (None, 28, 28, 256)       0         \n",
      "_________________________________________________________________\n",
      "block4_conv1 (Conv2D)        (None, 28, 28, 512)       1180160   \n",
      "_________________________________________________________________\n",
      "block4_conv2 (Conv2D)        (None, 28, 28, 512)       2359808   \n",
      "_________________________________________________________________\n",
      "block4_conv3 (Conv2D)        (None, 28, 28, 512)       2359808   \n",
      "_________________________________________________________________\n",
      "block4_pool (MaxPooling2D)   (None, 14, 14, 512)       0         \n",
      "_________________________________________________________________\n",
      "block5_conv1 (Conv2D)        (None, 14, 14, 512)       2359808   \n",
      "_________________________________________________________________\n",
      "block5_conv2 (Conv2D)        (None, 14, 14, 512)       2359808   \n",
      "_________________________________________________________________\n",
      "block5_conv3 (Conv2D)        (None, 14, 14, 512)       2359808   \n",
      "_________________________________________________________________\n",
      "block5_pool (MaxPooling2D)   (None, 7, 7, 512)         0         \n",
      "_________________________________________________________________\n",
      "flatten (Flatten)            (None, 25088)             0         \n",
      "_________________________________________________________________\n",
      "fc1 (Dense)                  (None, 4096)              102764544 \n",
      "_________________________________________________________________\n",
      "fc2 (Dense)                  (None, 4096)              16781312  \n",
      "_________________________________________________________________\n",
      "dense (Dense)                (None, 2)                 8194      \n",
      "=================================================================\n",
      "Total params: 134,268,738\n",
      "Trainable params: 126,633,474\n",
      "Non-trainable params: 7,635,264\n",
      "_________________________________________________________________\n"
     ]
    }
   ],
   "source": [
    "dense_layer2 = vggmodel.layers[-2].output\n",
    "prediction_layer = Dense(units=2, activation=\"softmax\")(dense_layer2)\n",
    "\n",
    "vgecocup = Model(inputs=vggmodel.input, outputs=prediction_layer)\n",
    "optimizer = Adam(learning_rate=0.0001)\n",
    "vgecocup.compile(optimizer=optimizer,\n",
    "                 loss=tf.keras.losses.BinaryCrossentropy(), metrics=[\"accuracy\"])\n",
    "vgecocup.summary()"
   ]
  },
  {
   "cell_type": "code",
   "execution_count": 8,
   "metadata": {},
   "outputs": [],
   "source": [
    "X_train_model, X_test_model, y_train_model, y_test_model = train_test_split(\n",
    "    train_images_array, train_labels_array, test_size=0.10)"
   ]
  },
  {
   "cell_type": "code",
   "execution_count": 9,
   "metadata": {},
   "outputs": [
    {
     "data": {
      "text/plain": [
       "(14109, 224, 224, 3)"
      ]
     },
     "execution_count": 9,
     "metadata": {},
     "output_type": "execute_result"
    }
   ],
   "source": [
    "X_train_model.shape"
   ]
  },
  {
   "cell_type": "code",
   "execution_count": 10,
   "metadata": {},
   "outputs": [
    {
     "data": {
      "text/plain": [
       "(1568, 224, 224, 3)"
      ]
     },
     "execution_count": 10,
     "metadata": {},
     "output_type": "execute_result"
    }
   ],
   "source": [
    "X_test_model.shape"
   ]
  },
  {
   "cell_type": "code",
   "execution_count": 12,
   "metadata": {},
   "outputs": [
    {
     "name": "stdout",
     "output_type": "stream",
     "text": [
      "Epoch 1/50\n",
      "10/10 [==============================] - 96s 10s/step - loss: 0.2962 - accuracy: 0.9250\n",
      "Epoch 2/50\n",
      "10/10 [==============================] - 93s 9s/step - loss: 0.2074 - accuracy: 0.9500\n",
      "Epoch 3/50\n",
      "10/10 [==============================] - 95s 10s/step - loss: 0.1576 - accuracy: 0.9500\n",
      "Epoch 4/50\n",
      "10/10 [==============================] - 108s 11s/step - loss: 0.0589 - accuracy: 0.9821\n",
      "Epoch 5/50\n",
      "10/10 [==============================] - 86s 9s/step - loss: 0.1579 - accuracy: 0.9571\n",
      "Epoch 6/50\n",
      "10/10 [==============================] - 97s 10s/step - loss: 0.1171 - accuracy: 0.9500\n",
      "Epoch 7/50\n",
      "10/10 [==============================] - 90s 9s/step - loss: 0.1236 - accuracy: 0.9571\n",
      "Epoch 8/50\n",
      "10/10 [==============================] - 87s 9s/step - loss: 0.0871 - accuracy: 0.9643\n",
      "Epoch 9/50\n",
      "10/10 [==============================] - 86s 9s/step - loss: 0.1042 - accuracy: 0.9643\n",
      "Epoch 10/50\n",
      "10/10 [==============================] - 90s 9s/step - loss: 0.0774 - accuracy: 0.9714\n",
      "Epoch 11/50\n",
      "10/10 [==============================] - 98s 10s/step - loss: 0.0759 - accuracy: 0.9679\n",
      "Epoch 12/50\n",
      "10/10 [==============================] - 97s 10s/step - loss: 0.0775 - accuracy: 0.9750\n",
      "Epoch 13/50\n",
      "10/10 [==============================] - 88s 9s/step - loss: 0.0575 - accuracy: 0.9643\n",
      "Epoch 14/50\n",
      "10/10 [==============================] - 86s 9s/step - loss: 0.0827 - accuracy: 0.9714\n",
      "Epoch 15/50\n",
      "10/10 [==============================] - 87s 9s/step - loss: 0.1260 - accuracy: 0.9500\n",
      "Epoch 16/50\n",
      "10/10 [==============================] - 86s 9s/step - loss: 0.0781 - accuracy: 0.9679\n",
      "Epoch 17/50\n",
      "10/10 [==============================] - 100s 10s/step - loss: 0.0793 - accuracy: 0.9786\n",
      "Epoch 18/50\n",
      "10/10 [==============================] - 95s 10s/step - loss: 0.0359 - accuracy: 0.9893\n",
      "Epoch 19/50\n",
      "10/10 [==============================] - 90s 9s/step - loss: 0.0453 - accuracy: 0.9857\n",
      "Epoch 20/50\n",
      "10/10 [==============================] - 85s 9s/step - loss: 0.1281 - accuracy: 0.9500\n",
      "Epoch 21/50\n",
      "10/10 [==============================] - 85s 8s/step - loss: 0.1554 - accuracy: 0.9571\n",
      "Epoch 22/50\n",
      "10/10 [==============================] - 84s 8s/step - loss: 0.0757 - accuracy: 0.9893\n",
      "Epoch 23/50\n",
      "10/10 [==============================] - 84s 8s/step - loss: 0.1294 - accuracy: 0.9607\n",
      "Epoch 24/50\n",
      "10/10 [==============================] - 84s 8s/step - loss: 0.0670 - accuracy: 0.9643\n",
      "Epoch 25/50\n",
      "10/10 [==============================] - 84s 8s/step - loss: 0.0506 - accuracy: 0.9786\n",
      "Epoch 26/50\n",
      "10/10 [==============================] - 82s 8s/step - loss: 0.1047 - accuracy: 0.9714\n",
      "Epoch 27/50\n",
      "10/10 [==============================] - 83s 8s/step - loss: 0.0580 - accuracy: 0.9821\n",
      "Epoch 28/50\n",
      "10/10 [==============================] - 84s 8s/step - loss: 0.0321 - accuracy: 0.9929\n",
      "Epoch 29/50\n",
      "10/10 [==============================] - 84s 8s/step - loss: 0.1438 - accuracy: 0.9679\n",
      "Epoch 30/50\n",
      "10/10 [==============================] - 83s 8s/step - loss: 0.0443 - accuracy: 0.9821\n",
      "Epoch 31/50\n",
      "10/10 [==============================] - 83s 8s/step - loss: 0.0649 - accuracy: 0.9857\n",
      "Epoch 32/50\n",
      "10/10 [==============================] - 82s 8s/step - loss: 0.0542 - accuracy: 0.9786\n",
      "Epoch 33/50\n",
      "10/10 [==============================] - 83s 8s/step - loss: 0.0548 - accuracy: 0.9857\n",
      "Epoch 34/50\n",
      "10/10 [==============================] - 107s 11s/step - loss: 0.0748 - accuracy: 0.9786\n",
      "Epoch 35/50\n",
      "10/10 [==============================] - 105s 10s/step - loss: 0.1076 - accuracy: 0.9929\n",
      "Epoch 36/50\n",
      "10/10 [==============================] - 107s 11s/step - loss: 0.0154 - accuracy: 0.9964\n",
      "Epoch 37/50\n",
      "10/10 [==============================] - 108s 11s/step - loss: 0.0411 - accuracy: 0.9929\n",
      "Epoch 38/50\n",
      "10/10 [==============================] - 106s 11s/step - loss: 0.1074 - accuracy: 0.9679\n",
      "Epoch 39/50\n",
      "10/10 [==============================] - 94s 9s/step - loss: 0.0659 - accuracy: 0.9786\n",
      "Epoch 40/50\n",
      "10/10 [==============================] - 89s 9s/step - loss: 0.0324 - accuracy: 0.9893\n",
      "Epoch 41/50\n",
      "10/10 [==============================] - 95s 10s/step - loss: 0.0213 - accuracy: 0.9929\n",
      "Epoch 42/50\n",
      "10/10 [==============================] - 99s 10s/step - loss: 0.0057 - accuracy: 1.0000\n",
      "Epoch 43/50\n",
      "10/10 [==============================] - 97s 10s/step - loss: 0.1324 - accuracy: 0.9857\n",
      "Epoch 44/50\n",
      "10/10 [==============================] - 98s 10s/step - loss: 0.2209 - accuracy: 0.9536\n",
      "Epoch 45/50\n",
      "10/10 [==============================] - 99s 10s/step - loss: 0.0667 - accuracy: 0.9821\n",
      "Epoch 46/50\n",
      "10/10 [==============================] - 99s 10s/step - loss: 0.0666 - accuracy: 0.9821\n",
      "Epoch 47/50\n",
      "10/10 [==============================] - 99s 10s/step - loss: 0.0382 - accuracy: 0.9821\n",
      "Epoch 48/50\n",
      "10/10 [==============================] - 101s 10s/step - loss: 0.0344 - accuracy: 0.9929\n",
      "Epoch 49/50\n",
      "10/10 [==============================] - 99s 10s/step - loss: 0.0095 - accuracy: 0.9964\n",
      "Epoch 50/50\n",
      "10/10 [==============================] - 100s 10s/step - loss: 0.0567 - accuracy: 0.9929\n"
     ]
    }
   ],
   "source": [
    "hist = vgecocup.fit(\n",
    "    x=X_train_model,\n",
    "    y=y_train_model,\n",
    "    verbose=1,\n",
    "    batch_size=28,\n",
    "    steps_per_epoch=10,\n",
    "    epochs=50,\n",
    ")"
   ]
  },
  {
   "cell_type": "code",
   "execution_count": 30,
   "metadata": {},
   "outputs": [],
   "source": [
    "y_true = np.load(\"train_data/train_labels_full.npy\")\n",
    "y_pred = []\n",
    "for image in X_test_model:\n",
    "    img = np.expand_dims(image, axis=0)\n",
    "    prediction = vgecocup.predict(img)\n",
    "    if prediction[0][1] > 0.5:\n",
    "        y_pred.append(1)\n",
    "    else:\n",
    "        y_pred.append(0)"
   ]
  },
  {
   "cell_type": "code",
   "execution_count": 36,
   "metadata": {},
   "outputs": [
    {
     "data": {
      "image/png": "[encoded data removed]",
      "text/plain": [
       "<Figure size 432x288 with 1 Axes>"
      ]
     },
     "metadata": {
      "needs_background": "light"
     },
     "output_type": "display_data"
    }
   ],
   "source": [
    "plt.plot(hist.history[\"loss\"])\n",
    "plt.title(\"Loss along epochs\")\n",
    "plt.show()"
   ]
  },
  {
   "cell_type": "code",
   "execution_count": 37,
   "metadata": {},
   "outputs": [
    {
     "data": {
      "image/png": "[encoded data removed]",
      "text/plain": [
       "<Figure size 432x288 with 1 Axes>"
      ]
     },
     "metadata": {
      "needs_background": "light"
     },
     "output_type": "display_data"
    }
   ],
   "source": [
    "plt.plot(hist.history[\"accuracy\"])\n",
    "plt.title(\"Accuracy along epochs\")\n",
    "plt.show()"
   ]
  },
  {
   "cell_type": "code",
   "execution_count": 24,
   "metadata": {},
   "outputs": [],
   "source": [
    "y_true = y_test_model[:, 1]"
   ]
  },
  {
   "cell_type": "code",
   "execution_count": 27,
   "metadata": {},
   "outputs": [
    {
     "name": "stdout",
     "output_type": "stream",
     "text": [
      "              precision    recall  f1-score   support\n",
      "\n",
      "           0       1.00      0.99      0.99      1018\n",
      "           1       0.97      0.99      0.98       550\n",
      "\n",
      "    accuracy                           0.99      1568\n",
      "   macro avg       0.99      0.99      0.99      1568\n",
      "weighted avg       0.99      0.99      0.99      1568\n",
      "\n"
     ]
    },
    {
     "data": {
      "text/plain": [
       "<sklearn.metrics._plot.confusion_matrix.ConfusionMatrixDisplay at 0x13f1370a0>"
      ]
     },
     "execution_count": 27,
     "metadata": {},
     "output_type": "execute_result"
    },
    {
     "data": {
      "image/png": "[encoded data removed]",
      "text/plain": [
       "<Figure size 432x288 with 2 Axes>"
      ]
     },
     "metadata": {
      "needs_background": "light"
     },
     "output_type": "display_data"
    }
   ],
   "source": [
    "from sklearn.metrics import classification_report, confusion_matrix, ConfusionMatrixDisplay\n",
    "\n",
    "print(classification_report(y_pred=np.array(y_pred), y_true=y_true))\n",
    "cm = confusion_matrix(y_pred=y_pred, y_true=y_true)\n",
    "disp = ConfusionMatrixDisplay(cm, display_labels=[\"No ecocup\", \"Ecocup\"])\n",
    "disp.plot()"
   ]
  },
  {
   "cell_type": "code",
   "execution_count": 28,
   "metadata": {},
   "outputs": [
    {
     "name": "stderr",
     "output_type": "stream",
     "text": [
      "2022-06-13 13:34:36.268814: W tensorflow/python/util/util.cc:348] Sets are not currently considered sequences, but this may change in the future, so consider avoiding using them.\n"
     ]
    },
    {
     "name": "stdout",
     "output_type": "stream",
     "text": [
      "INFO:tensorflow:Assets written to: models/vgecocup_version2/assets\n"
     ]
    }
   ],
   "source": [
    "vgecocup.save(\"models/vgecocup_version2\")"
   ]
  },
  {
   "cell_type": "code",
   "execution_count": 29,
   "metadata": {},
   "outputs": [],
   "source": [
    "np.save(\"train_data/X_train\", X_train_model)\n",
    "np.save(\"train_data/X_test\", X_test_model)\n",
    "np.save(\"train_data/y_train\", y_train_model)\n",
    "np.save(\"train_data/y_test\", y_test_model)"
   ]
  },
  {
   "cell_type": "code",
   "execution_count": null,
   "metadata": {},
   "outputs": [],
   "source": []
  }
 ],
 "metadata": {
  "interpreter": {
   "hash": "aee8b7b246df8f9039afb4144a1f6fd8d2ca17a180786b69acc140d282b71a49"
  },
  "kernelspec": {
   "display_name": "Python 3.9.8 64-bit",
   "language": "python",
   "name": "python3"
  },
  "language_info": {
   "codemirror_mode": {
    "name": "ipython",
    "version": 3
   },
   "file_extension": ".py",
   "mimetype": "text/x-python",
   "name": "python",
   "nbconvert_exporter": "python",
   "pygments_lexer": "ipython3",
   "version": "3.9.8"
  },
  "orig_nbformat": 4
 },
 "nbformat": 4,
 "nbformat_minor": 2
}
